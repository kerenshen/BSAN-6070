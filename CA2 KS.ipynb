{
 "cells": [
  {
   "cell_type": "code",
   "execution_count": 14,
   "id": "f57d1659",
   "metadata": {},
   "outputs": [],
   "source": [
    "#import packages\n",
    "import os\n",
    "import numpy as np\n",
    "from collections import Counter\n",
    "from sklearn.naive_bayes import GaussianNB\n",
    "from sklearn.metrics import accuracy_score"
   ]
  },
  {
   "cell_type": "code",
   "execution_count": 15,
   "id": "1a2c2f8f",
   "metadata": {},
   "outputs": [],
   "source": [
    "# count the word frequency and removed the less common word for the document\n",
    "def make_Dictionary(root_dir):\n",
    "  ALL_words = [] \n",
    "  emails = [os.path.join(root_dir,f) for f in os.listdir(root_dir)] # count the word frequency\n",
    "  for mail in emails:\n",
    "    with open(mail) as m:\n",
    "      for line in m:\n",
    "        words = line.split()\n",
    "        ALL_words += words\n",
    "  Dictionary = Counter(ALL_words) # make_Dictionary reads email files from folder, builds dictionary for all words\n",
    "  list_to_remove = list(Dictionary)\n",
    "  for item in list_to_remove:\n",
    "    if item.isalpha() == False:\n",
    "      del Dictionary[item]\n",
    "    elif len(item) == 1: # remove words of length 1 that are not purely alphabetical\n",
    "      del Dictionary[item] \n",
    "  Dictionary = Dictionary.most_common(3000) # extract the 3000 most frequently used words\n",
    "  return Dictionary"
   ]
  },
  {
   "cell_type": "code",
   "execution_count": 16,
   "id": "ee5f82eb",
   "metadata": {},
   "outputs": [],
   "source": [
    "# generate a label and word frequency matrix\n",
    "def extract_features(mail_dir):\n",
    "  files = [os.path.join(mail_dir,fi) for fi in os.listdir(mail_dir)]\n",
    "  features_matrix = np.zeros((len(files),3000))\n",
    "  train_labels = np.zeros(len(files))\n",
    "  count = 1;\n",
    "  DOC_ID = 0;\n",
    "  for fil in files:\n",
    "    with open(fil) as fi:\n",
    "      for i, line in enumerate(fi):\n",
    "        if i ==2:\n",
    "          words = line.split()\n",
    "          for word in words:\n",
    "            wordID = 0\n",
    "            for i, d in enumerate(dictionary):\n",
    "              if d[0] == word:\n",
    "                wordID = i\n",
    "                features_matrix[DOC_ID,wordID] = words.count(word)\n",
    "      train_labels[DOC_ID] = 0;\n",
    "      filepathTokens = fil.split('/')\n",
    "      lastToken = filepathTokens[len(filepathTokens)-1]\n",
    "      if lastToken.startswith(\"spmsg\"):\n",
    "        train_labels[DOC_ID] = 1;\n",
    "        count = count + 1\n",
    "      DOC_ID = DOC_ID + 1\n",
    "  return features_matrix, train_labels"
   ]
  },
  {
   "cell_type": "code",
   "execution_count": 18,
   "id": "cb07a301",
   "metadata": {},
   "outputs": [
    {
     "name": "stdout",
     "output_type": "stream",
     "text": [
      "reading and processing emails from TRAIN and TEST folders\n",
      "Training Model using Gaussian Naibe Bayes algorithm .....\n",
      "Training completed\n",
      "testing trained model to predict Test Data labels\n",
      "Completed classification of the Test Data .... now printing Accuracy Score by comparing the Predicted Labels with the Test Labels:\n",
      "0.9653846153846154\n"
     ]
    }
   ],
   "source": [
    "TEST_Mails = '/Users/karen/Desktop/Spring 2022/6070/CA2/Data/test-mails'\n",
    "TRAIN_Mails = '/Users/karen/Desktop/Spring 2022/6070/CA2/Data/train-mails'\n",
    "# Use the documents on the computer\n",
    "\n",
    "Dictionary = make_Dictionary(TRAIN_Mails)\n",
    "# make_Dictionary reads TRAIN_Mails files from folder, builds dictionary for all words\n",
    "print (\"reading and processing emails from TRAIN and TEST folders\")\n",
    "# set reminding message\n",
    "features_matrix, labels = extract_features(TRAIN_Mails)\n",
    "test_features_matrix, test_labels = extract_features(TEST_Mails)\n",
    "\n",
    "model = GaussianNB()\n",
    "# Use Gaussian, it used in classification and it assumes that features follow a normal distribution\n",
    "print (\"Training Model using Gaussian Naibe Bayes algorithm .....\")\n",
    "model.fit(features_matrix, labels)\n",
    "print (\"Training completed\")\n",
    "print (\"testing trained model to predict Test Data labels\")\n",
    "predicted_labels = model.predict(test_features_matrix)\n",
    "print (\"Completed classification of the Test Data .... now printing Accuracy Score by comparing the Predicted Labels with the Test Labels:\")\n",
    "print (accuracy_score(test_labels, predicted_labels))\n",
    "# compare the accuracy score for predicted labels. Accuracy score is just percentage of correct predictions"
   ]
  }
 ],
 "metadata": {
  "kernelspec": {
   "display_name": "Python 3",
   "language": "python",
   "name": "python3"
  },
  "language_info": {
   "codemirror_mode": {
    "name": "ipython",
    "version": 3
   },
   "file_extension": ".py",
   "mimetype": "text/x-python",
   "name": "python",
   "nbconvert_exporter": "python",
   "pygments_lexer": "ipython3",
   "version": "3.8.8"
  }
 },
 "nbformat": 4,
 "nbformat_minor": 5
}
